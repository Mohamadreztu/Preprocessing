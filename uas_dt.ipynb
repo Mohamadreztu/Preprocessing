{
 "cells": [
  {
   "cell_type": "code",
   "execution_count": 56,
   "id": "2f87e8ab",
   "metadata": {},
   "outputs": [],
   "source": [
    "import pandas as pd\n",
    "import numpy as np\n",
    "from sklearn import preprocessing\n",
    "\n",
    "csv_data = pd.read_csv(\"bankCustomer.csv\")\n",
    "array = csv_data.values\n",
    "\n",
    "X = array[:,2:6]\n",
    "Y = array[:,1:4]"
   ]
  },
  {
   "cell_type": "code",
   "execution_count": 57,
   "id": "378e836f",
   "metadata": {},
   "outputs": [
    {
     "name": "stdout",
     "output_type": "stream",
     "text": [
      "    customerId geography  gender    balance  age  CreditScore\n",
      "0     15634602    France  Female       0.00   42          619\n",
      "1     15647311     Spain  Female   83807.86   41          608\n",
      "2     15701354    France  Female  159660.80   42          502\n",
      "3     15619304    France  Female       0.00   39          699\n",
      "4     15737888     Spain  Female  125510.82   43          685\n",
      "5     15574012     Spain    Male  113755.78   44          645\n",
      "6     15592531    France    Male  115046.74   50          682\n",
      "7     15656148   Germany  Female  142051.07   29          376\n",
      "8     15792365    France    Male  134603.88   44          501\n",
      "9     15592389    France    Male  102016.72   27          684\n",
      "10    15767821    France    Male       0.00   31          528\n",
      "11    15737173     Spain    Male       0.00   24          497\n",
      "12    15632264    France  Female       0.00   34          476\n",
      "13    15691483    France   Femal       0.00   25          549\n",
      "14    15600882     Spain  Female  143129.41   35          635\n",
      "15    15643966   Germany    Male  132602.88   45          616\n",
      "16    15737452   Germany    Male       0.00   58          653\n",
      "17    15788218     Spain  Female       0.00   24          549\n",
      "18    15661507     Spain    Male       0.00   45          587\n",
      "19    15568982    France  Female       0.00   58          736\n"
     ]
    }
   ],
   "source": [
    "print(csv_data)"
   ]
  },
  {
   "cell_type": "code",
   "execution_count": 58,
   "id": "878068ff",
   "metadata": {},
   "outputs": [
    {
     "name": "stdout",
     "output_type": "stream",
     "text": [
      "Sebelum di-Normalisasi:\n",
      "   Customer ID Geography  Gender    Balance Age Credit Score\n",
      "0     15634602    France  Female        0.0  42          619\n",
      "1     15647311     Spain  Female   83807.86  41          608\n",
      "2     15701354    France  Female   159660.8  42          502\n",
      "3     15619304    France  Female        0.0  39          699\n",
      "4     15737888     Spain  Female  125510.82  43          685\n",
      "5     15574012     Spain    Male  113755.78  44          645\n",
      "6     15592531    France    Male  115046.74  50          682\n",
      "7     15656148   Germany  Female  142051.07  29          376\n",
      "8     15792365    France    Male  134603.88  44          501\n",
      "9     15592389    France    Male  102016.72  27          684\n",
      "10    15767821    France    Male        0.0  31          528\n",
      "11    15737173     Spain    Male        0.0  24          497\n",
      "12    15632264    France  Female        0.0  34          476\n",
      "13    15691483    France   Femal        0.0  25          549\n",
      "14    15600882     Spain  Female  143129.41  35          635\n",
      "15    15643966   Germany    Male  132602.88  45          616\n",
      "16    15737452   Germany    Male        0.0  58          653\n",
      "17    15788218     Spain  Female        0.0  24          549\n",
      "18    15661507     Spain    Male        0.0  45          587\n",
      "19    15568982    France  Female        0.0  58          736\n",
      "Setelah di-Normalisasi:\n",
      "   Customer ID Geography  Gender   Balance       Age Credit Score\n",
      "0     15634602    France  Female  0.529412  0.675000          619\n",
      "1     15647311     Spain  Female  0.500000  0.644444          608\n",
      "2     15701354    France  Female  0.529412  0.350000          502\n",
      "3     15619304    France  Female  0.441176  0.897222          699\n",
      "4     15737888     Spain  Female  0.558824  0.858333          685\n",
      "5     15574012     Spain    Male  0.588235  0.747222          645\n",
      "6     15592531    France    Male  0.764706  0.850000          682\n",
      "7     15656148   Germany  Female  0.147059  0.000000          376\n",
      "8     15792365    France    Male  0.588235  0.347222          501\n",
      "9     15592389    France    Male  0.088235  0.855556          684\n",
      "10    15767821    France    Male  0.205882  0.422222          528\n",
      "11    15737173     Spain    Male  0.000000  0.336111          497\n",
      "12    15632264    France  Female  0.294118  0.277778          476\n",
      "13    15691483    France   Femal  0.029412  0.480556          549\n",
      "14    15600882     Spain  Female  0.323529  0.719444          635\n",
      "15    15643966   Germany    Male  0.617647  0.666667          616\n",
      "16    15737452   Germany    Male  1.000000  0.769444          653\n",
      "17    15788218     Spain  Female  0.000000  0.480556          549\n",
      "18    15661507     Spain    Male  0.617647  0.586111          587\n",
      "19    15568982    France  Female  1.000000  1.000000          736\n"
     ]
    }
   ],
   "source": [
    "dataset = pd.DataFrame({\n",
    "    'Customer ID': array[:, 0],\n",
    "    'Geography': array[:, 1],  # Modify the column index accordingly if needed\n",
    "    'Gender': array[:, 2],\n",
    "    'Balance': array[:, 3],\n",
    "    'Age': array[:, 4],\n",
    "    'Credit Score': array[:, 5]\n",
    "})\n",
    "\n",
    "print(\"Sebelum di-Normalisasi:\")\n",
    "print(dataset.head(20))\n",
    "\n",
    "min_max_scaler = preprocessing.MinMaxScaler(feature_range=(0, 1))  # Inisialisasi normalisasi MinMax\n",
    "data = min_max_scaler.fit_transform(array[:, 4:6])  # Transformasi MinMax untuk fitur Balance dan Age\n",
    "\n",
    "dataset['Balance'] = data[:, 0]\n",
    "dataset['Age'] = data[:, 1]\n",
    "\n",
    "print(\"Setelah di-Normalisasi:\")\n",
    "print(dataset.head(20))"
   ]
  },
  {
   "cell_type": "code",
   "execution_count": null,
   "id": "08598af5",
   "metadata": {},
   "outputs": [],
   "source": []
  }
 ],
 "metadata": {
  "kernelspec": {
   "display_name": "Python 3 (ipykernel)",
   "language": "python",
   "name": "python3"
  },
  "language_info": {
   "codemirror_mode": {
    "name": "ipython",
    "version": 3
   },
   "file_extension": ".py",
   "mimetype": "text/x-python",
   "name": "python",
   "nbconvert_exporter": "python",
   "pygments_lexer": "ipython3",
   "version": "3.10.0"
  }
 },
 "nbformat": 4,
 "nbformat_minor": 5
}
